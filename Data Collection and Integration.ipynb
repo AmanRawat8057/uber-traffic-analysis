{
 "cells": [
  {
   "cell_type": "markdown",
   "id": "9164a88b-3aff-47d5-a21d-82dd2d2b4b53",
   "metadata": {},
   "source": [
    "#  Data Collection and Integration"
   ]
  },
  {
   "cell_type": "markdown",
   "id": "51f56e07-2acc-4d68-bebc-880325476edb",
   "metadata": {},
   "source": [
    "### Import Required Libraries"
   ]
  },
  {
   "cell_type": "code",
   "execution_count": 93,
   "id": "ac2fe4b7-3cec-4b96-a249-31fcbf46b596",
   "metadata": {},
   "outputs": [],
   "source": [
    "import pandas as pd\n",
    "import matplotlib.pyplot as plt\n",
    "import seaborn as sns\n",
    "\n",
    "import warnings\n",
    "warnings.filterwarnings(\"ignore\")"
   ]
  },
  {
   "cell_type": "markdown",
   "id": "3625ce68-5167-47e3-abbf-dbecb3b6c5a4",
   "metadata": {},
   "source": [
    "### Load the Datasets"
   ]
  },
  {
   "cell_type": "code",
   "execution_count": 57,
   "id": "0dc1710b-70f0-498c-b895-ad37c22a21ae",
   "metadata": {},
   "outputs": [],
   "source": [
    "# Load datasets\n",
    "traffic_df = pd.read_csv(\"Dataset_Uber Traffic.csv\")\n",
    "weather_df = pd.read_csv(\"Delhi_NCR_2015_2016.csv\")\n",
    "holiday_df = pd.read_csv(\"Holidays 2015 to 2016.csv\")"
   ]
  },
  {
   "cell_type": "markdown",
   "id": "0423ab8e-ff89-4078-bda9-5ab11d91c468",
   "metadata": {},
   "source": [
    "### Convert Date Columns to Datetime"
   ]
  },
  {
   "cell_type": "code",
   "execution_count": 58,
   "id": "cc3a08d0-d358-4ef5-b210-d1ca2da8341f",
   "metadata": {},
   "outputs": [],
   "source": [
    "# Convert traffic DateTime\n",
    "traffic_df['DateTime'] = pd.to_datetime(traffic_df['DateTime'], format='%d/%m/%y %H:%M')"
   ]
  },
  {
   "cell_type": "code",
   "execution_count": 59,
   "id": "604e7660-0e61-4522-953e-01c5df01f6f3",
   "metadata": {},
   "outputs": [],
   "source": [
    "# Convert weather date\n",
    "weather_df['date'] = pd.to_datetime(weather_df['date'], format='%d-%m-%Y')"
   ]
  },
  {
   "cell_type": "code",
   "execution_count": 62,
   "id": "21ae4b4f-7724-4c9f-8bd3-e97899fb06ad",
   "metadata": {
    "scrolled": true
   },
   "outputs": [],
   "source": [
    "holiday_df['Date'] = pd.to_datetime(holiday_df['Date'], format='%d-%m-%Y')\n",
    "holiday_df['Date'] = pd.to_datetime(holiday_df['Date'], dayfirst=True, errors='coerce')"
   ]
  },
  {
   "cell_type": "markdown",
   "id": "21287c44-f335-4698-833b-5be7d8386bb0",
   "metadata": {},
   "source": [
    "## Preview the Date Ranges in Each Dataset"
   ]
  },
  {
   "cell_type": "code",
   "execution_count": 63,
   "id": "0f136b88-9a73-45b1-ad97-bb5c812c5b18",
   "metadata": {},
   "outputs": [
    {
     "name": "stdout",
     "output_type": "stream",
     "text": [
      "Traffic Date Range: 2015-11-01 00:00:00 to 2017-06-30 23:00:00\n",
      "Weather Date Range: 2015-01-01 00:00:00 to 2016-12-31 00:00:00\n",
      "Holiday Date Range: 2015-01-04 00:00:00 to 2016-12-13 00:00:00\n"
     ]
    }
   ],
   "source": [
    "print(\"Traffic Date Range:\", traffic_df['DateTime'].min(), \"to\", traffic_df['DateTime'].max())\n",
    "print(\"Weather Date Range:\", weather_df['date'].min(), \"to\", weather_df['date'].max())\n",
    "print(\"Holiday Date Range:\", holiday_df['Date'].min(), \"to\", holiday_df['Date'].max())"
   ]
  },
  {
   "cell_type": "markdown",
   "id": "a8d8f0be-8db6-4e04-a8de-814f2906503e",
   "metadata": {},
   "source": [
    "### Extract Date from Traffic Timestamp"
   ]
  },
  {
   "cell_type": "code",
   "execution_count": 64,
   "id": "0272e344-89fc-490d-86b2-cc150ea4dfce",
   "metadata": {},
   "outputs": [],
   "source": [
    "traffic_df['Date'] = traffic_df['DateTime'].dt.date"
   ]
  },
  {
   "cell_type": "code",
   "execution_count": 65,
   "id": "df5fdf01-64ea-44dc-8be9-55f5809f11a5",
   "metadata": {},
   "outputs": [],
   "source": [
    "weather_df['Date'] = weather_df['date'].dt.date"
   ]
  },
  {
   "cell_type": "markdown",
   "id": "17268c8e-42d5-4212-a1d1-e638469f6ca4",
   "metadata": {},
   "source": [
    "### Merge traffic + weather on 'Date'"
   ]
  },
  {
   "cell_type": "code",
   "execution_count": 66,
   "id": "73429644-c85f-452c-a278-f603026b3139",
   "metadata": {},
   "outputs": [],
   "source": [
    "merged_df = pd.merge(traffic_df, weather_df, on='Date', how='left')"
   ]
  },
  {
   "cell_type": "markdown",
   "id": "7dac5e12-8987-4be7-89e0-4e476988f2c5",
   "metadata": {},
   "source": [
    "### Drop the extra columns not needed"
   ]
  },
  {
   "cell_type": "code",
   "execution_count": 67,
   "id": "9a7a436c-0cae-44c0-b697-fa720cf55e61",
   "metadata": {},
   "outputs": [],
   "source": [
    "merged_df.drop(['date'], axis=1, inplace=True)"
   ]
  },
  {
   "cell_type": "markdown",
   "id": "4136abb5-db45-42bc-be71-5daf377439d3",
   "metadata": {},
   "source": [
    "### Preview merged data"
   ]
  },
  {
   "cell_type": "code",
   "execution_count": 68,
   "id": "9db67cc4-8bc6-48f0-ad38-228a63e01965",
   "metadata": {},
   "outputs": [
    {
     "data": {
      "text/html": [
       "<div>\n",
       "<style scoped>\n",
       "    .dataframe tbody tr th:only-of-type {\n",
       "        vertical-align: middle;\n",
       "    }\n",
       "\n",
       "    .dataframe tbody tr th {\n",
       "        vertical-align: top;\n",
       "    }\n",
       "\n",
       "    .dataframe thead th {\n",
       "        text-align: right;\n",
       "    }\n",
       "</style>\n",
       "<table border=\"1\" class=\"dataframe\">\n",
       "  <thead>\n",
       "    <tr style=\"text-align: right;\">\n",
       "      <th></th>\n",
       "      <th>DateTime</th>\n",
       "      <th>Junction</th>\n",
       "      <th>Vehicles</th>\n",
       "      <th>ID</th>\n",
       "      <th>Date</th>\n",
       "      <th>tavg</th>\n",
       "      <th>tmin</th>\n",
       "      <th>tmax</th>\n",
       "      <th>prcp</th>\n",
       "    </tr>\n",
       "  </thead>\n",
       "  <tbody>\n",
       "    <tr>\n",
       "      <th>0</th>\n",
       "      <td>2015-11-01 00:00:00</td>\n",
       "      <td>1</td>\n",
       "      <td>15</td>\n",
       "      <td>20151101001</td>\n",
       "      <td>2015-11-01</td>\n",
       "      <td>22.9</td>\n",
       "      <td>16.2</td>\n",
       "      <td>31.4</td>\n",
       "      <td>NaN</td>\n",
       "    </tr>\n",
       "    <tr>\n",
       "      <th>1</th>\n",
       "      <td>2015-11-01 01:00:00</td>\n",
       "      <td>1</td>\n",
       "      <td>13</td>\n",
       "      <td>20151101011</td>\n",
       "      <td>2015-11-01</td>\n",
       "      <td>22.9</td>\n",
       "      <td>16.2</td>\n",
       "      <td>31.4</td>\n",
       "      <td>NaN</td>\n",
       "    </tr>\n",
       "    <tr>\n",
       "      <th>2</th>\n",
       "      <td>2015-11-01 02:00:00</td>\n",
       "      <td>1</td>\n",
       "      <td>10</td>\n",
       "      <td>20151101021</td>\n",
       "      <td>2015-11-01</td>\n",
       "      <td>22.9</td>\n",
       "      <td>16.2</td>\n",
       "      <td>31.4</td>\n",
       "      <td>NaN</td>\n",
       "    </tr>\n",
       "    <tr>\n",
       "      <th>3</th>\n",
       "      <td>2015-11-01 03:00:00</td>\n",
       "      <td>1</td>\n",
       "      <td>7</td>\n",
       "      <td>20151101031</td>\n",
       "      <td>2015-11-01</td>\n",
       "      <td>22.9</td>\n",
       "      <td>16.2</td>\n",
       "      <td>31.4</td>\n",
       "      <td>NaN</td>\n",
       "    </tr>\n",
       "    <tr>\n",
       "      <th>4</th>\n",
       "      <td>2015-11-01 04:00:00</td>\n",
       "      <td>1</td>\n",
       "      <td>9</td>\n",
       "      <td>20151101041</td>\n",
       "      <td>2015-11-01</td>\n",
       "      <td>22.9</td>\n",
       "      <td>16.2</td>\n",
       "      <td>31.4</td>\n",
       "      <td>NaN</td>\n",
       "    </tr>\n",
       "  </tbody>\n",
       "</table>\n",
       "</div>"
      ],
      "text/plain": [
       "             DateTime  Junction  Vehicles           ID        Date  tavg  \\\n",
       "0 2015-11-01 00:00:00         1        15  20151101001  2015-11-01  22.9   \n",
       "1 2015-11-01 01:00:00         1        13  20151101011  2015-11-01  22.9   \n",
       "2 2015-11-01 02:00:00         1        10  20151101021  2015-11-01  22.9   \n",
       "3 2015-11-01 03:00:00         1         7  20151101031  2015-11-01  22.9   \n",
       "4 2015-11-01 04:00:00         1         9  20151101041  2015-11-01  22.9   \n",
       "\n",
       "   tmin  tmax  prcp  \n",
       "0  16.2  31.4   NaN  \n",
       "1  16.2  31.4   NaN  \n",
       "2  16.2  31.4   NaN  \n",
       "3  16.2  31.4   NaN  \n",
       "4  16.2  31.4   NaN  "
      ]
     },
     "execution_count": 68,
     "metadata": {},
     "output_type": "execute_result"
    }
   ],
   "source": [
    "merged_df.head()"
   ]
  },
  {
   "cell_type": "markdown",
   "id": "fbf5569c-dce1-4bf5-85b6-4db53588b177",
   "metadata": {},
   "source": [
    "## Clean and Standardize Holiday Dates"
   ]
  },
  {
   "cell_type": "code",
   "execution_count": 84,
   "id": "6561255a-455a-4a9c-9dbf-912060d74fe6",
   "metadata": {},
   "outputs": [],
   "source": [
    "holiday_df.rename(columns={'Holiday Date': 'Date'}, inplace=True)\n",
    "holiday_df['Date'] = pd.to_datetime(holiday_df['Date'])\n",
    "holiday_df['Only_Date'] = holiday_df['Date'].dt.date"
   ]
  },
  {
   "cell_type": "markdown",
   "id": "fafceb94-f4a6-4115-a38a-ab0c346aa8b2",
   "metadata": {},
   "source": [
    "### Create a 'IsHoliday' flag"
   ]
  },
  {
   "cell_type": "code",
   "execution_count": 70,
   "id": "522d4a1e-3ebc-4e19-8e75-3ae5891ed03e",
   "metadata": {},
   "outputs": [],
   "source": [
    "holiday_df['IsHoliday'] = 1"
   ]
  },
  {
   "cell_type": "code",
   "execution_count": 71,
   "id": "8d12ddbc-3cd8-4cdd-a839-80902bf63fa6",
   "metadata": {},
   "outputs": [],
   "source": [
    "# Ensure both 'Date' columns are in datetime64[ns] format\n",
    "merged_df['Date'] = pd.to_datetime(merged_df['Date'])\n",
    "holiday_df['Date'] = pd.to_datetime(holiday_df['Date'])\n",
    "\n",
    "# Now safely merge\n",
    "merged_df = pd.merge(merged_df, holiday_df[['Date', 'IsHoliday']], on='Date', how='left')"
   ]
  },
  {
   "cell_type": "code",
   "execution_count": 72,
   "id": "218da472-7725-420f-b2b1-5d06abbfcd6a",
   "metadata": {},
   "outputs": [],
   "source": [
    "# Step 4: Fill non-holiday entries with 0\n",
    "merged_df['IsHoliday'] = merged_df['IsHoliday'].fillna(0).astype(int)"
   ]
  },
  {
   "cell_type": "markdown",
   "id": "9b3519fe-05c1-438a-97ce-26894b8a10c4",
   "metadata": {},
   "source": [
    "### Preview the updated dataset"
   ]
  },
  {
   "cell_type": "code",
   "execution_count": 73,
   "id": "fe419998-47bf-4572-87ae-17f8afb1e2ce",
   "metadata": {},
   "outputs": [
    {
     "data": {
      "text/html": [
       "<div>\n",
       "<style scoped>\n",
       "    .dataframe tbody tr th:only-of-type {\n",
       "        vertical-align: middle;\n",
       "    }\n",
       "\n",
       "    .dataframe tbody tr th {\n",
       "        vertical-align: top;\n",
       "    }\n",
       "\n",
       "    .dataframe thead th {\n",
       "        text-align: right;\n",
       "    }\n",
       "</style>\n",
       "<table border=\"1\" class=\"dataframe\">\n",
       "  <thead>\n",
       "    <tr style=\"text-align: right;\">\n",
       "      <th></th>\n",
       "      <th>DateTime</th>\n",
       "      <th>Junction</th>\n",
       "      <th>Vehicles</th>\n",
       "      <th>ID</th>\n",
       "      <th>Date</th>\n",
       "      <th>tavg</th>\n",
       "      <th>tmin</th>\n",
       "      <th>tmax</th>\n",
       "      <th>prcp</th>\n",
       "      <th>IsHoliday</th>\n",
       "    </tr>\n",
       "  </thead>\n",
       "  <tbody>\n",
       "    <tr>\n",
       "      <th>0</th>\n",
       "      <td>2015-11-01 00:00:00</td>\n",
       "      <td>1</td>\n",
       "      <td>15</td>\n",
       "      <td>20151101001</td>\n",
       "      <td>2015-11-01</td>\n",
       "      <td>22.9</td>\n",
       "      <td>16.2</td>\n",
       "      <td>31.4</td>\n",
       "      <td>NaN</td>\n",
       "      <td>0</td>\n",
       "    </tr>\n",
       "    <tr>\n",
       "      <th>1</th>\n",
       "      <td>2015-11-01 01:00:00</td>\n",
       "      <td>1</td>\n",
       "      <td>13</td>\n",
       "      <td>20151101011</td>\n",
       "      <td>2015-11-01</td>\n",
       "      <td>22.9</td>\n",
       "      <td>16.2</td>\n",
       "      <td>31.4</td>\n",
       "      <td>NaN</td>\n",
       "      <td>0</td>\n",
       "    </tr>\n",
       "    <tr>\n",
       "      <th>2</th>\n",
       "      <td>2015-11-01 02:00:00</td>\n",
       "      <td>1</td>\n",
       "      <td>10</td>\n",
       "      <td>20151101021</td>\n",
       "      <td>2015-11-01</td>\n",
       "      <td>22.9</td>\n",
       "      <td>16.2</td>\n",
       "      <td>31.4</td>\n",
       "      <td>NaN</td>\n",
       "      <td>0</td>\n",
       "    </tr>\n",
       "    <tr>\n",
       "      <th>3</th>\n",
       "      <td>2015-11-01 03:00:00</td>\n",
       "      <td>1</td>\n",
       "      <td>7</td>\n",
       "      <td>20151101031</td>\n",
       "      <td>2015-11-01</td>\n",
       "      <td>22.9</td>\n",
       "      <td>16.2</td>\n",
       "      <td>31.4</td>\n",
       "      <td>NaN</td>\n",
       "      <td>0</td>\n",
       "    </tr>\n",
       "    <tr>\n",
       "      <th>4</th>\n",
       "      <td>2015-11-01 04:00:00</td>\n",
       "      <td>1</td>\n",
       "      <td>9</td>\n",
       "      <td>20151101041</td>\n",
       "      <td>2015-11-01</td>\n",
       "      <td>22.9</td>\n",
       "      <td>16.2</td>\n",
       "      <td>31.4</td>\n",
       "      <td>NaN</td>\n",
       "      <td>0</td>\n",
       "    </tr>\n",
       "  </tbody>\n",
       "</table>\n",
       "</div>"
      ],
      "text/plain": [
       "             DateTime  Junction  Vehicles           ID       Date  tavg  tmin  \\\n",
       "0 2015-11-01 00:00:00         1        15  20151101001 2015-11-01  22.9  16.2   \n",
       "1 2015-11-01 01:00:00         1        13  20151101011 2015-11-01  22.9  16.2   \n",
       "2 2015-11-01 02:00:00         1        10  20151101021 2015-11-01  22.9  16.2   \n",
       "3 2015-11-01 03:00:00         1         7  20151101031 2015-11-01  22.9  16.2   \n",
       "4 2015-11-01 04:00:00         1         9  20151101041 2015-11-01  22.9  16.2   \n",
       "\n",
       "   tmax  prcp  IsHoliday  \n",
       "0  31.4   NaN          0  \n",
       "1  31.4   NaN          0  \n",
       "2  31.4   NaN          0  \n",
       "3  31.4   NaN          0  \n",
       "4  31.4   NaN          0  "
      ]
     },
     "execution_count": 73,
     "metadata": {},
     "output_type": "execute_result"
    }
   ],
   "source": [
    "merged_df.head()"
   ]
  },
  {
   "cell_type": "markdown",
   "id": "2e687417-245b-423c-b911-d59d73957b29",
   "metadata": {},
   "source": [
    "### Check for missing values in merged dataset"
   ]
  },
  {
   "cell_type": "code",
   "execution_count": 74,
   "id": "2730e0ee-782d-48b3-a222-f20891a6c9c2",
   "metadata": {},
   "outputs": [
    {
     "name": "stdout",
     "output_type": "stream",
     "text": [
      "Missing Values:\n",
      " DateTime         0\n",
      "Junction         0\n",
      "Vehicles         0\n",
      "ID               0\n",
      "Date             0\n",
      "tavg         17376\n",
      "tmin         17808\n",
      "tmax         17520\n",
      "prcp         40920\n",
      "IsHoliday        0\n",
      "dtype: int64\n"
     ]
    }
   ],
   "source": [
    "print(\"Missing Values:\\n\", merged_df.isnull().sum())"
   ]
  },
  {
   "cell_type": "code",
   "execution_count": 75,
   "id": "5e005736-3a7c-4087-b044-09e778a55a79",
   "metadata": {},
   "outputs": [],
   "source": [
    "#  Remove rows with missing 'Vehicles' (this is essential data)\n",
    "merged_df = merged_df.dropna(subset=['Vehicles'])"
   ]
  },
  {
   "cell_type": "code",
   "execution_count": 76,
   "id": "7c159ef5-d8b3-4f98-8ead-b1a89293fa67",
   "metadata": {},
   "outputs": [],
   "source": [
    "# For weather columns (tavg, tmin, tmax, prcp), fill with median values\n",
    "weather_cols = ['tavg', 'tmin', 'tmax', 'prcp']\n",
    "for col in weather_cols:\n",
    "    merged_df[col] = merged_df[col].fillna(merged_df[col].median())"
   ]
  },
  {
   "cell_type": "code",
   "execution_count": 77,
   "id": "4387c110-d6a6-4382-9214-8e3a2963bc31",
   "metadata": {},
   "outputs": [],
   "source": [
    "# Remove duplicates\n",
    "merged_df = merged_df.drop_duplicates()"
   ]
  },
  {
   "cell_type": "code",
   "execution_count": 78,
   "id": "daec7687-52de-4e92-b473-43182b437923",
   "metadata": {},
   "outputs": [],
   "source": [
    "\n",
    "# Ensure correct data types\n",
    "merged_df['Vehicles'] = merged_df['Vehicles'].astype(int)\n",
    "merged_df['IsHoliday'] = merged_df['IsHoliday'].astype(int)"
   ]
  },
  {
   "cell_type": "code",
   "execution_count": 79,
   "id": "8aa21e16-1e7e-4081-8113-651c5085f39b",
   "metadata": {},
   "outputs": [
    {
     "name": "stdout",
     "output_type": "stream",
     "text": [
      "\n",
      " Cleaned Data Types:\n",
      " DateTime     datetime64[ns]\n",
      "Junction              int64\n",
      "Vehicles              int32\n",
      "ID                    int64\n",
      "Date         datetime64[ns]\n",
      "tavg                float64\n",
      "tmin                float64\n",
      "tmax                float64\n",
      "prcp                float64\n",
      "IsHoliday             int32\n",
      "dtype: object\n",
      "\n",
      " Final Dataset Shape: (48120, 10)\n"
     ]
    }
   ],
   "source": [
    "#  Final check\n",
    "print(\"\\n Cleaned Data Types:\\n\", merged_df.dtypes)\n",
    "print(\"\\n Final Dataset Shape:\", merged_df.shape)"
   ]
  },
  {
   "cell_type": "code",
   "execution_count": 85,
   "id": "ea04030a-35bf-4836-b0b7-82acb05006ec",
   "metadata": {},
   "outputs": [
    {
     "data": {
      "text/html": [
       "<div>\n",
       "<style scoped>\n",
       "    .dataframe tbody tr th:only-of-type {\n",
       "        vertical-align: middle;\n",
       "    }\n",
       "\n",
       "    .dataframe tbody tr th {\n",
       "        vertical-align: top;\n",
       "    }\n",
       "\n",
       "    .dataframe thead th {\n",
       "        text-align: right;\n",
       "    }\n",
       "</style>\n",
       "<table border=\"1\" class=\"dataframe\">\n",
       "  <thead>\n",
       "    <tr style=\"text-align: right;\">\n",
       "      <th></th>\n",
       "      <th>DateTime</th>\n",
       "      <th>Junction</th>\n",
       "      <th>Vehicles</th>\n",
       "      <th>ID</th>\n",
       "      <th>Date</th>\n",
       "      <th>tavg</th>\n",
       "      <th>tmin</th>\n",
       "      <th>tmax</th>\n",
       "      <th>prcp</th>\n",
       "      <th>IsHoliday</th>\n",
       "    </tr>\n",
       "  </thead>\n",
       "  <tbody>\n",
       "    <tr>\n",
       "      <th>0</th>\n",
       "      <td>2015-11-01 00:00:00</td>\n",
       "      <td>1</td>\n",
       "      <td>-0.375489</td>\n",
       "      <td>20151101001</td>\n",
       "      <td>2015-11-01</td>\n",
       "      <td>-0.559729</td>\n",
       "      <td>-0.420101</td>\n",
       "      <td>-0.274024</td>\n",
       "      <td>-0.161477</td>\n",
       "      <td>0</td>\n",
       "    </tr>\n",
       "    <tr>\n",
       "      <th>1</th>\n",
       "      <td>2015-11-01 01:00:00</td>\n",
       "      <td>1</td>\n",
       "      <td>-0.471875</td>\n",
       "      <td>20151101011</td>\n",
       "      <td>2015-11-01</td>\n",
       "      <td>-0.559729</td>\n",
       "      <td>-0.420101</td>\n",
       "      <td>-0.274024</td>\n",
       "      <td>-0.161477</td>\n",
       "      <td>0</td>\n",
       "    </tr>\n",
       "    <tr>\n",
       "      <th>2</th>\n",
       "      <td>2015-11-01 02:00:00</td>\n",
       "      <td>1</td>\n",
       "      <td>-0.616454</td>\n",
       "      <td>20151101021</td>\n",
       "      <td>2015-11-01</td>\n",
       "      <td>-0.559729</td>\n",
       "      <td>-0.420101</td>\n",
       "      <td>-0.274024</td>\n",
       "      <td>-0.161477</td>\n",
       "      <td>0</td>\n",
       "    </tr>\n",
       "    <tr>\n",
       "      <th>3</th>\n",
       "      <td>2015-11-01 03:00:00</td>\n",
       "      <td>1</td>\n",
       "      <td>-0.761034</td>\n",
       "      <td>20151101031</td>\n",
       "      <td>2015-11-01</td>\n",
       "      <td>-0.559729</td>\n",
       "      <td>-0.420101</td>\n",
       "      <td>-0.274024</td>\n",
       "      <td>-0.161477</td>\n",
       "      <td>0</td>\n",
       "    </tr>\n",
       "    <tr>\n",
       "      <th>4</th>\n",
       "      <td>2015-11-01 04:00:00</td>\n",
       "      <td>1</td>\n",
       "      <td>-0.664648</td>\n",
       "      <td>20151101041</td>\n",
       "      <td>2015-11-01</td>\n",
       "      <td>-0.559729</td>\n",
       "      <td>-0.420101</td>\n",
       "      <td>-0.274024</td>\n",
       "      <td>-0.161477</td>\n",
       "      <td>0</td>\n",
       "    </tr>\n",
       "  </tbody>\n",
       "</table>\n",
       "</div>"
      ],
      "text/plain": [
       "             DateTime  Junction  Vehicles           ID       Date      tavg  \\\n",
       "0 2015-11-01 00:00:00         1 -0.375489  20151101001 2015-11-01 -0.559729   \n",
       "1 2015-11-01 01:00:00         1 -0.471875  20151101011 2015-11-01 -0.559729   \n",
       "2 2015-11-01 02:00:00         1 -0.616454  20151101021 2015-11-01 -0.559729   \n",
       "3 2015-11-01 03:00:00         1 -0.761034  20151101031 2015-11-01 -0.559729   \n",
       "4 2015-11-01 04:00:00         1 -0.664648  20151101041 2015-11-01 -0.559729   \n",
       "\n",
       "       tmin      tmax      prcp  IsHoliday  \n",
       "0 -0.420101 -0.274024 -0.161477          0  \n",
       "1 -0.420101 -0.274024 -0.161477          0  \n",
       "2 -0.420101 -0.274024 -0.161477          0  \n",
       "3 -0.420101 -0.274024 -0.161477          0  \n",
       "4 -0.420101 -0.274024 -0.161477          0  "
      ]
     },
     "execution_count": 85,
     "metadata": {},
     "output_type": "execute_result"
    }
   ],
   "source": [
    "merged_df.head(5)"
   ]
  },
  {
   "cell_type": "code",
   "execution_count": 86,
   "id": "40a4787c-67a4-45ec-a751-5d1c6b877401",
   "metadata": {},
   "outputs": [],
   "source": [
    "# Extract hour of day (0 to 23)\n",
    "merged_df['Hour'] = merged_df['DateTime'].dt.hour"
   ]
  },
  {
   "cell_type": "code",
   "execution_count": 87,
   "id": "593fea3c-a341-4c0e-b442-d48720ad416b",
   "metadata": {},
   "outputs": [],
   "source": [
    "\n",
    "# Extract day of the week (0 = Monday, 6 = Sunday)\n",
    "merged_df['DayOfWeek'] = merged_df['DateTime'].dt.dayofweek"
   ]
  },
  {
   "cell_type": "code",
   "execution_count": 88,
   "id": "830b6016-d367-4a5e-8c03-8290b72a92e2",
   "metadata": {},
   "outputs": [],
   "source": [
    "# Flag if the day is a weekend (Saturday=5, Sunday=6)\n",
    "merged_df['IsWeekend'] = merged_df['DayOfWeek'].apply(lambda x: 1 if x >= 5 else 0)"
   ]
  },
  {
   "cell_type": "code",
   "execution_count": 89,
   "id": "9b18d1c1-efc2-42fc-96a6-eabe30591bf4",
   "metadata": {},
   "outputs": [],
   "source": [
    "# Flag if it's a rush hour (7–10 AM or 5–8 PM)\n",
    "merged_df['IsRushHour'] = merged_df['Hour'].apply(lambda x: 1 if (7 <= x <= 10) or (17 <= x <= 20) else 0)"
   ]
  },
  {
   "cell_type": "code",
   "execution_count": 90,
   "id": "0466ffbf-b695-4d0d-81fc-f3b1b758c85c",
   "metadata": {},
   "outputs": [
    {
     "data": {
      "text/html": [
       "<div>\n",
       "<style scoped>\n",
       "    .dataframe tbody tr th:only-of-type {\n",
       "        vertical-align: middle;\n",
       "    }\n",
       "\n",
       "    .dataframe tbody tr th {\n",
       "        vertical-align: top;\n",
       "    }\n",
       "\n",
       "    .dataframe thead th {\n",
       "        text-align: right;\n",
       "    }\n",
       "</style>\n",
       "<table border=\"1\" class=\"dataframe\">\n",
       "  <thead>\n",
       "    <tr style=\"text-align: right;\">\n",
       "      <th></th>\n",
       "      <th>DateTime</th>\n",
       "      <th>Hour</th>\n",
       "      <th>DayOfWeek</th>\n",
       "      <th>IsWeekend</th>\n",
       "      <th>IsRushHour</th>\n",
       "    </tr>\n",
       "  </thead>\n",
       "  <tbody>\n",
       "    <tr>\n",
       "      <th>0</th>\n",
       "      <td>2015-11-01 00:00:00</td>\n",
       "      <td>0</td>\n",
       "      <td>6</td>\n",
       "      <td>1</td>\n",
       "      <td>0</td>\n",
       "    </tr>\n",
       "    <tr>\n",
       "      <th>1</th>\n",
       "      <td>2015-11-01 01:00:00</td>\n",
       "      <td>1</td>\n",
       "      <td>6</td>\n",
       "      <td>1</td>\n",
       "      <td>0</td>\n",
       "    </tr>\n",
       "    <tr>\n",
       "      <th>2</th>\n",
       "      <td>2015-11-01 02:00:00</td>\n",
       "      <td>2</td>\n",
       "      <td>6</td>\n",
       "      <td>1</td>\n",
       "      <td>0</td>\n",
       "    </tr>\n",
       "    <tr>\n",
       "      <th>3</th>\n",
       "      <td>2015-11-01 03:00:00</td>\n",
       "      <td>3</td>\n",
       "      <td>6</td>\n",
       "      <td>1</td>\n",
       "      <td>0</td>\n",
       "    </tr>\n",
       "    <tr>\n",
       "      <th>4</th>\n",
       "      <td>2015-11-01 04:00:00</td>\n",
       "      <td>4</td>\n",
       "      <td>6</td>\n",
       "      <td>1</td>\n",
       "      <td>0</td>\n",
       "    </tr>\n",
       "  </tbody>\n",
       "</table>\n",
       "</div>"
      ],
      "text/plain": [
       "             DateTime  Hour  DayOfWeek  IsWeekend  IsRushHour\n",
       "0 2015-11-01 00:00:00     0          6          1           0\n",
       "1 2015-11-01 01:00:00     1          6          1           0\n",
       "2 2015-11-01 02:00:00     2          6          1           0\n",
       "3 2015-11-01 03:00:00     3          6          1           0\n",
       "4 2015-11-01 04:00:00     4          6          1           0"
      ]
     },
     "execution_count": 90,
     "metadata": {},
     "output_type": "execute_result"
    }
   ],
   "source": [
    "# Display first few rows with new time-based features\n",
    "merged_df[['DateTime', 'Hour', 'DayOfWeek', 'IsWeekend', 'IsRushHour']].head()"
   ]
  },
  {
   "cell_type": "markdown",
   "id": "664b6fd2-2294-45a9-b019-b8f4afd2fd65",
   "metadata": {},
   "source": [
    "## Rush Hour vs Non-Rush Hour"
   ]
  },
  {
   "cell_type": "code",
   "execution_count": 94,
   "id": "0596d16a-64ae-4519-9115-449244d30a2a",
   "metadata": {},
   "outputs": [
    {
     "data": {
      "image/png": "[encoded data removed]",
      "text/plain": [
       "<Figure size 700x500 with 1 Axes>"
      ]
     },
     "metadata": {},
     "output_type": "display_data"
    }
   ],
   "source": [
    "\n",
    "plt.figure(figsize=(7, 5))\n",
    "sns.boxplot(x='IsRushHour', y='Vehicles', data=merged_df, palette='pastel')\n",
    "plt.xticks([0, 1], ['Non-Rush Hour', 'Rush Hour'])\n",
    "plt.title('⏰ Vehicle Distribution During Rush vs Non-Rush Hours')\n",
    "plt.xlabel('')\n",
    "plt.ylabel('Scaled Vehicle Count')\n",
    "plt.show()"
   ]
  },
  {
   "cell_type": "markdown",
   "id": "3f4ad886-bf19-41e3-962a-bbb2c8d1485d",
   "metadata": {},
   "source": [
    "## Vehicles by Day of Week"
   ]
  },
  {
   "cell_type": "code",
   "execution_count": 96,
   "id": "f1ba8105-8459-443f-aaab-0078a0b9deb6",
   "metadata": {},
   "outputs": [
    {
     "data": {
      "image/png": "[encoded data removed]",
      "text/plain": [
       "<Figure size 800x500 with 1 Axes>"
      ]
     },
     "metadata": {},
     "output_type": "display_data"
    }
   ],
   "source": [
    "# Average vehicles per day of the week\n",
    "dow_traffic = merged_df.groupby('DayOfWeek')['Vehicles'].mean().reset_index()\n",
    "\n",
    "# Day names for better understanding\n",
    "days = ['Mon', 'Tue', 'Wed', 'Thu', 'Fri', 'Sat', 'Sun']\n",
    "dow_traffic['DayName'] = dow_traffic['DayOfWeek'].apply(lambda x: days[x])\n",
    "\n",
    "plt.figure(figsize=(8, 5))\n",
    "sns.barplot(data=dow_traffic, x='DayName', y='Vehicles', palette='Set2')\n",
    "plt.title(' Average Vehicle Count by Day of the Week')\n",
    "plt.xlabel('Day of Week')\n",
    "plt.ylabel('Average Scaled Vehicles')\n",
    "plt.show()"
   ]
  },
  {
   "cell_type": "markdown",
   "id": "411d9cc6-dbac-4a6f-ac6d-54bc868c6cd7",
   "metadata": {},
   "source": [
    "### Vehicles by Hour of the Day"
   ]
  },
  {
   "cell_type": "code",
   "execution_count": 97,
   "id": "c6f5abbf-7ccf-4df1-86ea-27720be3cecd",
   "metadata": {},
   "outputs": [
    {
     "data": {
      "image/png": "[encoded data removed]",
      "text/plain": [
       "<Figure size 1000x500 with 1 Axes>"
      ]
     },
     "metadata": {},
     "output_type": "display_data"
    }
   ],
   "source": [
    "# Average vehicles per hour\n",
    "hourly_traffic = merged_df.groupby('Hour')['Vehicles'].mean().reset_index()\n",
    "\n",
    "plt.figure(figsize=(10, 5))\n",
    "sns.lineplot(data=hourly_traffic, x='Hour', y='Vehicles', marker='o')\n",
    "plt.title(' Average Vehicle Count by Hour of the Day')\n",
    "plt.xlabel('Hour (0 to 23)')\n",
    "plt.ylabel('Average Scaled Vehicles')\n",
    "plt.grid(True)\n",
    "plt.show()"
   ]
  },
  {
   "cell_type": "markdown",
   "id": "8372b1a9-25dd-4868-9578-682db9f4a843",
   "metadata": {},
   "source": [
    "# Normalize Numerical Features Using StandardScaler"
   ]
  },
  {
   "cell_type": "code",
   "execution_count": 80,
   "id": "81157118-fb78-40a0-801c-50c3ff671bf3",
   "metadata": {},
   "outputs": [],
   "source": [
    "from sklearn.preprocessing import StandardScaler\n",
    "\n",
    "# Step 1: Columns to scale\n",
    "scale_cols = ['Vehicles', 'tavg', 'tmin', 'tmax', 'prcp']"
   ]
  },
  {
   "cell_type": "code",
   "execution_count": 81,
   "id": "4c662ffb-660a-4706-be6c-864a12265fe9",
   "metadata": {},
   "outputs": [],
   "source": [
    "# Step 2: Initialize the scaler\n",
    "scaler = StandardScaler()"
   ]
  },
  {
   "cell_type": "code",
   "execution_count": 82,
   "id": "c3c8b840-0bfb-4d0d-9193-b2a7a865b377",
   "metadata": {},
   "outputs": [],
   "source": [
    "# Step 3: Apply scaler\n",
    "merged_df[scale_cols] = scaler.fit_transform(merged_df[scale_cols])"
   ]
  },
  {
   "cell_type": "code",
   "execution_count": 83,
   "id": "9c49a576-d2e3-4261-90c4-c594212c4c30",
   "metadata": {},
   "outputs": [
    {
     "data": {
      "text/html": [
       "<div>\n",
       "<style scoped>\n",
       "    .dataframe tbody tr th:only-of-type {\n",
       "        vertical-align: middle;\n",
       "    }\n",
       "\n",
       "    .dataframe tbody tr th {\n",
       "        vertical-align: top;\n",
       "    }\n",
       "\n",
       "    .dataframe thead th {\n",
       "        text-align: right;\n",
       "    }\n",
       "</style>\n",
       "<table border=\"1\" class=\"dataframe\">\n",
       "  <thead>\n",
       "    <tr style=\"text-align: right;\">\n",
       "      <th></th>\n",
       "      <th>Vehicles</th>\n",
       "      <th>tavg</th>\n",
       "      <th>tmin</th>\n",
       "      <th>tmax</th>\n",
       "      <th>prcp</th>\n",
       "      <th>Junction</th>\n",
       "      <th>IsHoliday</th>\n",
       "      <th>DateTime</th>\n",
       "    </tr>\n",
       "  </thead>\n",
       "  <tbody>\n",
       "    <tr>\n",
       "      <th>0</th>\n",
       "      <td>-0.375489</td>\n",
       "      <td>-0.559729</td>\n",
       "      <td>-0.420101</td>\n",
       "      <td>-0.274024</td>\n",
       "      <td>-0.161477</td>\n",
       "      <td>1</td>\n",
       "      <td>0</td>\n",
       "      <td>2015-11-01 00:00:00</td>\n",
       "    </tr>\n",
       "    <tr>\n",
       "      <th>1</th>\n",
       "      <td>-0.471875</td>\n",
       "      <td>-0.559729</td>\n",
       "      <td>-0.420101</td>\n",
       "      <td>-0.274024</td>\n",
       "      <td>-0.161477</td>\n",
       "      <td>1</td>\n",
       "      <td>0</td>\n",
       "      <td>2015-11-01 01:00:00</td>\n",
       "    </tr>\n",
       "    <tr>\n",
       "      <th>2</th>\n",
       "      <td>-0.616454</td>\n",
       "      <td>-0.559729</td>\n",
       "      <td>-0.420101</td>\n",
       "      <td>-0.274024</td>\n",
       "      <td>-0.161477</td>\n",
       "      <td>1</td>\n",
       "      <td>0</td>\n",
       "      <td>2015-11-01 02:00:00</td>\n",
       "    </tr>\n",
       "    <tr>\n",
       "      <th>3</th>\n",
       "      <td>-0.761034</td>\n",
       "      <td>-0.559729</td>\n",
       "      <td>-0.420101</td>\n",
       "      <td>-0.274024</td>\n",
       "      <td>-0.161477</td>\n",
       "      <td>1</td>\n",
       "      <td>0</td>\n",
       "      <td>2015-11-01 03:00:00</td>\n",
       "    </tr>\n",
       "    <tr>\n",
       "      <th>4</th>\n",
       "      <td>-0.664648</td>\n",
       "      <td>-0.559729</td>\n",
       "      <td>-0.420101</td>\n",
       "      <td>-0.274024</td>\n",
       "      <td>-0.161477</td>\n",
       "      <td>1</td>\n",
       "      <td>0</td>\n",
       "      <td>2015-11-01 04:00:00</td>\n",
       "    </tr>\n",
       "  </tbody>\n",
       "</table>\n",
       "</div>"
      ],
      "text/plain": [
       "   Vehicles      tavg      tmin      tmax      prcp  Junction  IsHoliday  \\\n",
       "0 -0.375489 -0.559729 -0.420101 -0.274024 -0.161477         1          0   \n",
       "1 -0.471875 -0.559729 -0.420101 -0.274024 -0.161477         1          0   \n",
       "2 -0.616454 -0.559729 -0.420101 -0.274024 -0.161477         1          0   \n",
       "3 -0.761034 -0.559729 -0.420101 -0.274024 -0.161477         1          0   \n",
       "4 -0.664648 -0.559729 -0.420101 -0.274024 -0.161477         1          0   \n",
       "\n",
       "             DateTime  \n",
       "0 2015-11-01 00:00:00  \n",
       "1 2015-11-01 01:00:00  \n",
       "2 2015-11-01 02:00:00  \n",
       "3 2015-11-01 03:00:00  \n",
       "4 2015-11-01 04:00:00  "
      ]
     },
     "execution_count": 83,
     "metadata": {},
     "output_type": "execute_result"
    }
   ],
   "source": [
    "# Step 4: Show first few rows\n",
    "merged_df[scale_cols + ['Junction', 'IsHoliday', 'DateTime']].head()"
   ]
  },
  {
   "cell_type": "code",
   "execution_count": null,
   "id": "8979fdae-63d3-4860-8a40-eaa7a0eefb1a",
   "metadata": {},
   "outputs": [],
   "source": []
  },
  {
   "cell_type": "code",
   "execution_count": null,
   "id": "ece2b4b3-a2eb-48e0-b2ca-0d3c70779082",
   "metadata": {},
   "outputs": [],
   "source": []
  }
 ],
 "metadata": {
  "kernelspec": {
   "display_name": "Python 3 (ipykernel)",
   "language": "python",
   "name": "python3"
  },
  "language_info": {
   "codemirror_mode": {
    "name": "ipython",
    "version": 3
   },
   "file_extension": ".py",
   "mimetype": "text/x-python",
   "name": "python",
   "nbconvert_exporter": "python",
   "pygments_lexer": "ipython3",
   "version": "3.12.7"
  }
 },
 "nbformat": 4,
 "nbformat_minor": 5
}
